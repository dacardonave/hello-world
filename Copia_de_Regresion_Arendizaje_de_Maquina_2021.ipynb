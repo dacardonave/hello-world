{
  "nbformat": 4,
  "nbformat_minor": 0,
  "metadata": {
    "colab": {
      "provenance": []
    },
    "kernelspec": {
      "name": "python3",
      "display_name": "Python 3"
    },
    "language_info": {
      "name": "python"
    }
  },
  "cells": [
    {
      "cell_type": "markdown",
      "metadata": {
        "id": "qIs1RdloKUx0"
      },
      "source": [
        "# Importar librerias"
      ]
    },
    {
      "cell_type": "code",
      "metadata": {
        "id": "3QeGA9c-oREE"
      },
      "source": [
        "import pandas as pd\n",
        "import numpy as np\n",
        "import matplotlib.pyplot as plt\n",
        "import seaborn as sns\n",
        "%matplotlib inline\n",
        "\n",
        "sns.set_style(\"whitegrid\")\n",
        "plt.style.use(\"fivethirtyeight\")"
      ],
      "execution_count": null,
      "outputs": []
    },
    {
      "cell_type": "code",
      "metadata": {
        "colab": {
          "base_uri": "https://localhost:8080/",
          "height": 262
        },
        "id": "6BRq8_2DoZQ8",
        "outputId": "cb7fc7f3-293d-40a1-e623-08a8ffc44bec"
      },
      "source": [
        "from sklearn.datasets import make_regression\n",
        "import matplotlib.pyplot as plt\n",
        "\n",
        "X, d = make_regression(\n",
        "    n_samples=2000,         #\n",
        "    n_features=1,          #\n",
        "    n_informative=1,       #\n",
        "    bias=0.0,              # intercepto\n",
        "    effective_rank=None,   # numero de vectores singulares para explicar los datos\n",
        "    tail_strength=0.9,     # ? importancia relativa de las colas\n",
        "    noise=12.0,            #\n",
        "    shuffle=False,         # ?\n",
        "    coef=False,            # ?coeficientes de la regresion\n",
        "    random_state=12136)    #\n",
        "\n",
        "plt.scatter(X, d);"
      ],
      "execution_count": null,
      "outputs": [
        {
          "output_type": "display_data",
          "data": {
            "image/png": "[encoded data removed]",
            "text/plain": [
              "<Figure size 432x288 with 1 Axes>"
            ]
          },
          "metadata": {
            "tags": [],
            "needs_background": "light"
          }
        }
      ]
    },
    {
      "cell_type": "markdown",
      "metadata": {
        "id": "AnnwV9Dwy2fN"
      },
      "source": [
        "📈 Linear Regression with Python\n",
        "Linear Regression is the simplest algorithm in machine learning, it can be trained in different ways. In this notebook we will cover the following linear algorithms:\n",
        "\n",
        "* Linear Regression\n",
        "* Ridge Regression\n",
        "* LASSO Regression\n",
        "* Elastic Net\n",
        "* Polynomial Regression\n",
        "* Artificial Neaural Networks"
      ]
    },
    {
      "cell_type": "code",
      "metadata": {
        "colab": {
          "base_uri": "https://localhost:8080/",
          "height": 419
        },
        "id": "Uv1gHSoA0Dzt",
        "outputId": "81e68010-80e0-4927-bd58-1e8dc3453975"
      },
      "source": [
        "import pandas as pd\n",
        "\n",
        "df = pd.DataFrame(X, columns = ['x'])\n",
        "df['d'] = d\n",
        "df"
      ],
      "execution_count": null,
      "outputs": [
        {
          "output_type": "execute_result",
          "data": {
            "text/html": [
              "<div>\n",
              "<style scoped>\n",
              "    .dataframe tbody tr th:only-of-type {\n",
              "        vertical-align: middle;\n",
              "    }\n",
              "\n",
              "    .dataframe tbody tr th {\n",
              "        vertical-align: top;\n",
              "    }\n",
              "\n",
              "    .dataframe thead th {\n",
              "        text-align: right;\n",
              "    }\n",
              "</style>\n",
              "<table border=\"1\" class=\"dataframe\">\n",
              "  <thead>\n",
              "    <tr style=\"text-align: right;\">\n",
              "      <th></th>\n",
              "      <th>x</th>\n",
              "      <th>d</th>\n",
              "    </tr>\n",
              "  </thead>\n",
              "  <tbody>\n",
              "    <tr>\n",
              "      <th>0</th>\n",
              "      <td>-0.075482</td>\n",
              "      <td>23.068485</td>\n",
              "    </tr>\n",
              "    <tr>\n",
              "      <th>1</th>\n",
              "      <td>0.254580</td>\n",
              "      <td>9.846595</td>\n",
              "    </tr>\n",
              "    <tr>\n",
              "      <th>2</th>\n",
              "      <td>-1.677905</td>\n",
              "      <td>-24.923331</td>\n",
              "    </tr>\n",
              "    <tr>\n",
              "      <th>3</th>\n",
              "      <td>0.029345</td>\n",
              "      <td>-5.869742</td>\n",
              "    </tr>\n",
              "    <tr>\n",
              "      <th>4</th>\n",
              "      <td>-1.260155</td>\n",
              "      <td>-20.441888</td>\n",
              "    </tr>\n",
              "    <tr>\n",
              "      <th>...</th>\n",
              "      <td>...</td>\n",
              "      <td>...</td>\n",
              "    </tr>\n",
              "    <tr>\n",
              "      <th>1995</th>\n",
              "      <td>0.837056</td>\n",
              "      <td>16.625924</td>\n",
              "    </tr>\n",
              "    <tr>\n",
              "      <th>1996</th>\n",
              "      <td>1.032649</td>\n",
              "      <td>3.351385</td>\n",
              "    </tr>\n",
              "    <tr>\n",
              "      <th>1997</th>\n",
              "      <td>-0.180803</td>\n",
              "      <td>-12.685073</td>\n",
              "    </tr>\n",
              "    <tr>\n",
              "      <th>1998</th>\n",
              "      <td>-0.491410</td>\n",
              "      <td>-0.425087</td>\n",
              "    </tr>\n",
              "    <tr>\n",
              "      <th>1999</th>\n",
              "      <td>1.637294</td>\n",
              "      <td>12.673113</td>\n",
              "    </tr>\n",
              "  </tbody>\n",
              "</table>\n",
              "<p>2000 rows × 2 columns</p>\n",
              "</div>"
            ],
            "text/plain": [
              "             x          d\n",
              "0    -0.075482  23.068485\n",
              "1     0.254580   9.846595\n",
              "2    -1.677905 -24.923331\n",
              "3     0.029345  -5.869742\n",
              "4    -1.260155 -20.441888\n",
              "...        ...        ...\n",
              "1995  0.837056  16.625924\n",
              "1996  1.032649   3.351385\n",
              "1997 -0.180803 -12.685073\n",
              "1998 -0.491410  -0.425087\n",
              "1999  1.637294  12.673113\n",
              "\n",
              "[2000 rows x 2 columns]"
            ]
          },
          "metadata": {
            "tags": []
          },
          "execution_count": 3
        }
      ]
    },
    {
      "cell_type": "code",
      "metadata": {
        "colab": {
          "base_uri": "https://localhost:8080/",
          "height": 297
        },
        "id": "p2sMPWE20L4m",
        "outputId": "cb991226-2ff1-4fda-e7c5-45a2071fb5a7"
      },
      "source": [
        "df.describe()"
      ],
      "execution_count": null,
      "outputs": [
        {
          "output_type": "execute_result",
          "data": {
            "text/html": [
              "<div>\n",
              "<style scoped>\n",
              "    .dataframe tbody tr th:only-of-type {\n",
              "        vertical-align: middle;\n",
              "    }\n",
              "\n",
              "    .dataframe tbody tr th {\n",
              "        vertical-align: top;\n",
              "    }\n",
              "\n",
              "    .dataframe thead th {\n",
              "        text-align: right;\n",
              "    }\n",
              "</style>\n",
              "<table border=\"1\" class=\"dataframe\">\n",
              "  <thead>\n",
              "    <tr style=\"text-align: right;\">\n",
              "      <th></th>\n",
              "      <th>x</th>\n",
              "      <th>d</th>\n",
              "    </tr>\n",
              "  </thead>\n",
              "  <tbody>\n",
              "    <tr>\n",
              "      <th>count</th>\n",
              "      <td>2000.000000</td>\n",
              "      <td>2000.000000</td>\n",
              "    </tr>\n",
              "    <tr>\n",
              "      <th>mean</th>\n",
              "      <td>0.014135</td>\n",
              "      <td>0.108939</td>\n",
              "    </tr>\n",
              "    <tr>\n",
              "      <th>std</th>\n",
              "      <td>0.985871</td>\n",
              "      <td>14.631040</td>\n",
              "    </tr>\n",
              "    <tr>\n",
              "      <th>min</th>\n",
              "      <td>-2.837751</td>\n",
              "      <td>-54.652680</td>\n",
              "    </tr>\n",
              "    <tr>\n",
              "      <th>25%</th>\n",
              "      <td>-0.626604</td>\n",
              "      <td>-9.943753</td>\n",
              "    </tr>\n",
              "    <tr>\n",
              "      <th>50%</th>\n",
              "      <td>0.003505</td>\n",
              "      <td>0.041820</td>\n",
              "    </tr>\n",
              "    <tr>\n",
              "      <th>75%</th>\n",
              "      <td>0.697471</td>\n",
              "      <td>10.020245</td>\n",
              "    </tr>\n",
              "    <tr>\n",
              "      <th>max</th>\n",
              "      <td>3.056231</td>\n",
              "      <td>45.498058</td>\n",
              "    </tr>\n",
              "  </tbody>\n",
              "</table>\n",
              "</div>"
            ],
            "text/plain": [
              "                 x            d\n",
              "count  2000.000000  2000.000000\n",
              "mean      0.014135     0.108939\n",
              "std       0.985871    14.631040\n",
              "min      -2.837751   -54.652680\n",
              "25%      -0.626604    -9.943753\n",
              "50%       0.003505     0.041820\n",
              "75%       0.697471    10.020245\n",
              "max       3.056231    45.498058"
            ]
          },
          "metadata": {
            "tags": []
          },
          "execution_count": 4
        }
      ]
    },
    {
      "cell_type": "code",
      "metadata": {
        "colab": {
          "base_uri": "https://localhost:8080/",
          "height": 391
        },
        "id": "imWtyAku0TBG",
        "outputId": "67867f74-cc7f-465e-ff59-f8d55e8bfc5a"
      },
      "source": [
        "sns.pairplot(df)"
      ],
      "execution_count": null,
      "outputs": [
        {
          "output_type": "execute_result",
          "data": {
            "text/plain": [
              "<seaborn.axisgrid.PairGrid at 0x7f0e2cc54c90>"
            ]
          },
          "metadata": {
            "tags": []
          },
          "execution_count": 5
        },
        {
          "output_type": "display_data",
          "data": {
            "image/png": "[encoded data removed]",
            "text/plain": [
              "<Figure size 360x360 with 6 Axes>"
            ]
          },
          "metadata": {
            "tags": [],
            "needs_background": "light"
          }
        }
      ]
    },
    {
      "cell_type": "code",
      "metadata": {
        "colab": {
          "base_uri": "https://localhost:8080/",
          "height": 350
        },
        "id": "lx6ykAnz0kB1",
        "outputId": "39a80467-e7da-417f-8a29-e1e30c0a0422"
      },
      "source": [
        "sns.distplot(df['x']) # corregir"
      ],
      "execution_count": null,
      "outputs": [
        {
          "output_type": "stream",
          "text": [
            "/usr/local/lib/python3.7/dist-packages/seaborn/distributions.py:2557: FutureWarning: `distplot` is a deprecated function and will be removed in a future version. Please adapt your code to use either `displot` (a figure-level function with similar flexibility) or `histplot` (an axes-level function for histograms).\n",
            "  warnings.warn(msg, FutureWarning)\n"
          ],
          "name": "stderr"
        },
        {
          "output_type": "execute_result",
          "data": {
            "text/plain": [
              "<matplotlib.axes._subplots.AxesSubplot at 0x7f0e20fa6690>"
            ]
          },
          "metadata": {
            "tags": []
          },
          "execution_count": 10
        },
        {
          "output_type": "display_data",
          "data": {
            "image/png": "[encoded data removed]",
            "text/plain": [
              "<Figure size 432x288 with 1 Axes>"
            ]
          },
          "metadata": {
            "tags": [],
            "needs_background": "light"
          }
        }
      ]
    },
    {
      "cell_type": "code",
      "metadata": {
        "id": "Ag3ox2M10Z-W",
        "colab": {
          "base_uri": "https://localhost:8080/",
          "height": 283
        },
        "outputId": "454e3c55-2c6d-46ad-f4fd-9d0806c58427"
      },
      "source": [
        "sns.heatmap(df.corr(), annot=True) # corregir"
      ],
      "execution_count": null,
      "outputs": [
        {
          "output_type": "execute_result",
          "data": {
            "text/plain": [
              "<matplotlib.axes._subplots.AxesSubplot at 0x7f0e230fbf50>"
            ]
          },
          "metadata": {
            "tags": []
          },
          "execution_count": 8
        },
        {
          "output_type": "display_data",
          "data": {
            "image/png": "[encoded data removed]",
            "text/plain": [
              "<Figure size 432x288 with 2 Axes>"
            ]
          },
          "metadata": {
            "tags": [],
            "needs_background": "light"
          }
        }
      ]
    },
    {
      "cell_type": "markdown",
      "metadata": {
        "id": "SBgY0vIm1BVG"
      },
      "source": [
        "# Datos de entrenamiento y prueba"
      ]
    },
    {
      "cell_type": "code",
      "metadata": {
        "id": "QKsmJdLR1dOA"
      },
      "source": [
        "X = df[['x']]\n",
        "y = df['d']   # corregir"
      ],
      "execution_count": null,
      "outputs": []
    },
    {
      "cell_type": "code",
      "metadata": {
        "id": "cHeK_ppE1Gv2"
      },
      "source": [
        "from sklearn.model_selection import train_test_split\n",
        "\n",
        "X_train, X_test, y_train, y_test = train_test_split(X, y, test_size=0.3, random_state=42)"
      ],
      "execution_count": null,
      "outputs": []
    },
    {
      "cell_type": "code",
      "metadata": {
        "id": "qmOPXgAi1yIW"
      },
      "source": [
        "from sklearn import metrics\n",
        "from sklearn.model_selection import cross_val_score\n",
        "\n",
        "def cross_val(model):\n",
        "    pred = cross_val_score(model, X, y, cv=10)\n",
        "    return pred.mean()\n",
        "\n",
        "def print_evaluate(true, predicted):\n",
        "    mae = metrics.mean_absolute_error(true, predicted)\n",
        "    mse = metrics.mean_squared_error(true, predicted)\n",
        "    rmse = np.sqrt(metrics.mean_squared_error(true, predicted))\n",
        "    r2_square = metrics.r2_score(true, predicted)\n",
        "    print('MAE:', mae)\n",
        "    print('MSE:', mse)\n",
        "    print('RMSE:', rmse)\n",
        "    print('R2 Square', r2_square)\n",
        "    print('__________________________________')\n",
        "\n",
        "def evaluate(true, predicted):\n",
        "    mae = metrics.mean_absolute_error(true, predicted)\n",
        "    mse = metrics.mean_squared_error(true, predicted)\n",
        "    rmse = np.sqrt(metrics.mean_squared_error(true, predicted))\n",
        "    r2_square = metrics.r2_score(true, predicted)\n",
        "    return mae, mse, rmse, r2_square"
      ],
      "execution_count": null,
      "outputs": []
    },
    {
      "cell_type": "markdown",
      "metadata": {
        "id": "tl42ImQp14FG"
      },
      "source": [
        "Estandarizar los datos"
      ]
    },
    {
      "cell_type": "code",
      "metadata": {
        "id": "dWDTMpVC13Pn"
      },
      "source": [
        "from sklearn.preprocessing import StandardScaler\n",
        "from sklearn.pipeline import Pipeline\n",
        "\n",
        "pipeline = Pipeline([\n",
        "    ('std_scalar', StandardScaler())\n",
        "])\n",
        "\n",
        "X_train = pipeline.fit_transform(X_train)\n",
        "X_test = pipeline.transform(X_test)"
      ],
      "execution_count": null,
      "outputs": []
    },
    {
      "cell_type": "markdown",
      "metadata": {
        "id": "YjzqEyYhzjeX"
      },
      "source": [
        "# Especificación\n",
        "A continuación se realiza la estimación del modelo usando Python"
      ]
    },
    {
      "cell_type": "code",
      "metadata": {
        "id": "G6COIV1OzlP-"
      },
      "source": [
        "#\n",
        "# Se usa la función LinearRegresion() para\n",
        "# estimar el modelo de regresión lineal.\n",
        "#\n",
        "from sklearn.linear_model import LinearRegression\n",
        "\n",
        "\n",
        "# Crea el modelo\n",
        "linearRegression = LinearRegression(\n",
        "    fit_intercept=True,               # ?intercepto (w0)\n",
        "    normalize=False,                  # solo para fit_intercept == False\n",
        "    copy_X=True                       # copia X o lo sobreescribe\n",
        ")"
      ],
      "execution_count": null,
      "outputs": []
    },
    {
      "cell_type": "markdown",
      "metadata": {
        "id": "5p_u9krCzv10"
      },
      "source": [
        "# Entrenamiento"
      ]
    },
    {
      "cell_type": "code",
      "metadata": {
        "id": "ZCz1L1OTzxJt"
      },
      "source": [
        "# Calibra el modelo\n",
        "lin_reg= linearRegression.fit(X_train, y_train)"
      ],
      "execution_count": null,
      "outputs": []
    },
    {
      "cell_type": "code",
      "metadata": {
        "colab": {
          "base_uri": "https://localhost:8080/"
        },
        "id": "2aaLPHuNz0H_",
        "outputId": "516c98a9-29f5-444f-ad0f-383abb31b399"
      },
      "source": [
        "# Imprime los coeficientes\n",
        "print('Coeficientes: ', lin_reg.coef_)\n",
        "\n",
        "# Imprime el intercepto\n",
        "print('Intercepto: ', lin_reg.intercept_)"
      ],
      "execution_count": null,
      "outputs": [
        {
          "output_type": "stream",
          "text": [
            "Coeficientes:  [8.18734467]\n",
            "Intercepto:  0.2182738262453922\n"
          ],
          "name": "stdout"
        }
      ]
    },
    {
      "cell_type": "markdown",
      "metadata": {
        "id": "xAKWtFdGz6xV"
      },
      "source": [
        "# Pronóstico"
      ]
    },
    {
      "cell_type": "code",
      "metadata": {
        "id": "9nYBmUFZz8YV"
      },
      "source": [
        "pred = lin_reg.predict(X_test)"
      ],
      "execution_count": null,
      "outputs": []
    },
    {
      "cell_type": "code",
      "metadata": {
        "colab": {
          "base_uri": "https://localhost:8080/",
          "height": 279
        },
        "id": "x5_oPazL2yu2",
        "outputId": "4bdfe654-4a3b-4971-ed90-814567f3f93c"
      },
      "source": [
        "plt.scatter(y_test, pred)"
      ],
      "execution_count": null,
      "outputs": [
        {
          "output_type": "execute_result",
          "data": {
            "text/plain": [
              "<matplotlib.collections.PathCollection at 0x7f0e1f20c210>"
            ]
          },
          "metadata": {
            "tags": []
          },
          "execution_count": 19
        },
        {
          "output_type": "display_data",
          "data": {
            "image/png": "[encoded data removed]",
            "text/plain": [
              "<Figure size 432x288 with 1 Axes>"
            ]
          },
          "metadata": {
            "tags": [],
            "needs_background": "light"
          }
        }
      ]
    },
    {
      "cell_type": "markdown",
      "metadata": {
        "id": "DftCAOss23i2"
      },
      "source": [
        "Residual Histogram"
      ]
    },
    {
      "cell_type": "code",
      "metadata": {
        "colab": {
          "base_uri": "https://localhost:8080/",
          "height": 333
        },
        "id": "evKpoN0N23TG",
        "outputId": "87512f61-2b44-4740-e543-d8e31efbe683"
      },
      "source": [
        "sns.distplot((y_test - pred), bins=50);"
      ],
      "execution_count": null,
      "outputs": [
        {
          "output_type": "stream",
          "text": [
            "/usr/local/lib/python3.7/dist-packages/seaborn/distributions.py:2557: FutureWarning: `distplot` is a deprecated function and will be removed in a future version. Please adapt your code to use either `displot` (a figure-level function with similar flexibility) or `histplot` (an axes-level function for histograms).\n",
            "  warnings.warn(msg, FutureWarning)\n"
          ],
          "name": "stderr"
        },
        {
          "output_type": "display_data",
          "data": {
            "image/png": "[encoded data removed]",
            "text/plain": [
              "<Figure size 432x288 with 1 Axes>"
            ]
          },
          "metadata": {
            "tags": [],
            "needs_background": "light"
          }
        }
      ]
    },
    {
      "cell_type": "code",
      "metadata": {
        "colab": {
          "base_uri": "https://localhost:8080/"
        },
        "id": "1RajezSV2-1O",
        "outputId": "366e1a67-81f4-4fe3-f559-03f07a7bf07f"
      },
      "source": [
        "test_pred = lin_reg.predict(X_test)\n",
        "train_pred = lin_reg.predict(X_train)\n",
        "\n",
        "print('Test set evaluation:\\n_____________________________________')\n",
        "print_evaluate(y_test, test_pred)\n",
        "print('Train set evaluation:\\n_____________________________________')\n",
        "print_evaluate(y_train, train_pred)"
      ],
      "execution_count": null,
      "outputs": [
        {
          "output_type": "stream",
          "text": [
            "Test set evaluation:\n",
            "_____________________________________\n",
            "MAE: 9.467277835316821\n",
            "MSE: 142.06694606081228\n",
            "RMSE: 11.919183951127371\n",
            "R2 Square 0.36103743627661145\n",
            "__________________________________\n",
            "Train set evaluation:\n",
            "_____________________________________\n",
            "MAE: 9.49140168057479\n",
            "MSE: 143.2965370684139\n",
            "RMSE: 11.970653159640618\n",
            "R2 Square 0.31870338859590164\n",
            "__________________________________\n"
          ],
          "name": "stdout"
        }
      ]
    },
    {
      "cell_type": "code",
      "metadata": {
        "colab": {
          "base_uri": "https://localhost:8080/",
          "height": 80
        },
        "id": "gp0-mobf3Fv-",
        "outputId": "a411e82c-c8c5-4699-c89a-100497d2b645"
      },
      "source": [
        "results_df = pd.DataFrame(data=[[\"Linear Regression\", *evaluate(y_test, test_pred) , cross_val(LinearRegression())]],\n",
        "                          columns=['Model', 'MAE', 'MSE', 'RMSE', 'R2 Square', \"Cross Validation\"])\n",
        "results_df"
      ],
      "execution_count": null,
      "outputs": [
        {
          "output_type": "execute_result",
          "data": {
            "text/html": [
              "<div>\n",
              "<style scoped>\n",
              "    .dataframe tbody tr th:only-of-type {\n",
              "        vertical-align: middle;\n",
              "    }\n",
              "\n",
              "    .dataframe tbody tr th {\n",
              "        vertical-align: top;\n",
              "    }\n",
              "\n",
              "    .dataframe thead th {\n",
              "        text-align: right;\n",
              "    }\n",
              "</style>\n",
              "<table border=\"1\" class=\"dataframe\">\n",
              "  <thead>\n",
              "    <tr style=\"text-align: right;\">\n",
              "      <th></th>\n",
              "      <th>Model</th>\n",
              "      <th>MAE</th>\n",
              "      <th>MSE</th>\n",
              "      <th>RMSE</th>\n",
              "      <th>R2 Square</th>\n",
              "      <th>Cross Validation</th>\n",
              "    </tr>\n",
              "  </thead>\n",
              "  <tbody>\n",
              "    <tr>\n",
              "      <th>0</th>\n",
              "      <td>Linear Regression</td>\n",
              "      <td>9.467278</td>\n",
              "      <td>142.066946</td>\n",
              "      <td>11.919184</td>\n",
              "      <td>0.361037</td>\n",
              "      <td>0.330683</td>\n",
              "    </tr>\n",
              "  </tbody>\n",
              "</table>\n",
              "</div>"
            ],
            "text/plain": [
              "               Model       MAE  ...  R2 Square  Cross Validation\n",
              "0  Linear Regression  9.467278  ...   0.361037          0.330683\n",
              "\n",
              "[1 rows x 6 columns]"
            ]
          },
          "metadata": {
            "tags": []
          },
          "execution_count": 22
        }
      ]
    },
    {
      "cell_type": "markdown",
      "metadata": {
        "id": "n8Fh_ijw3QxF"
      },
      "source": [
        "# ✔️ Ridge Regression"
      ]
    },
    {
      "cell_type": "code",
      "metadata": {
        "id": "ncrMQdFG3MhO",
        "colab": {
          "base_uri": "https://localhost:8080/"
        },
        "outputId": "0e2a6922-167f-4a50-ffa5-d763ceeeb497"
      },
      "source": [
        "from sklearn.linear_model import Ridge # completar\n",
        "\n",
        "model = Ridge(alpha=100, solver='cholesky', tol=0.0001, random_state=42)\n",
        "model.fit(X_train, y_train)\n",
        "pred = model.predict(X_test)\n",
        "\n",
        "test_pred = model.predict(X_test)\n",
        "train_pred = model.predict(X_train)\n",
        "\n",
        "print('Test set evaluation:\\n_____________________________________')\n",
        "print_evaluate(y_test, test_pred)\n",
        "print('====================================')\n",
        "print('Train set evaluation:\\n_____________________________________')\n",
        "print_evaluate(y_train, train_pred)\n"
      ],
      "execution_count": null,
      "outputs": [
        {
          "output_type": "stream",
          "text": [
            "Test set evaluation:\n",
            "_____________________________________\n",
            "MAE: 9.510632929412312\n",
            "MSE: 143.29766315501666\n",
            "RMSE: 11.970700194851455\n",
            "R2 Square 0.35550214343379627\n",
            "__________________________________\n",
            "====================================\n",
            "Train set evaluation:\n",
            "_____________________________________\n",
            "MAE: 9.521620083449578\n",
            "MSE: 143.5944597918622\n",
            "RMSE: 11.983090577637398\n",
            "R2 Square 0.31728692909103096\n",
            "__________________________________\n"
          ],
          "name": "stdout"
        }
      ]
    },
    {
      "cell_type": "code",
      "metadata": {
        "id": "Ee3bvOmF3hPO",
        "colab": {
          "base_uri": "https://localhost:8080/",
          "height": 111
        },
        "outputId": "ca040d55-5fb2-4bf5-f2c1-00340d7a04c4"
      },
      "source": [
        "results_df_2 = pd.DataFrame(data=[[\"Ridge Regression\", *evaluate(y_test, test_pred) , cross_val(Ridge())]],\n",
        "                            columns=['Model', 'MAE', 'MSE', 'RMSE', 'R2 Square', \"Cross Validation\"])\n",
        "results_df = results_df.append(results_df_2, ignore_index=True)\n",
        "results_df"
      ],
      "execution_count": null,
      "outputs": [
        {
          "output_type": "execute_result",
          "data": {
            "text/html": [
              "<div>\n",
              "<style scoped>\n",
              "    .dataframe tbody tr th:only-of-type {\n",
              "        vertical-align: middle;\n",
              "    }\n",
              "\n",
              "    .dataframe tbody tr th {\n",
              "        vertical-align: top;\n",
              "    }\n",
              "\n",
              "    .dataframe thead th {\n",
              "        text-align: right;\n",
              "    }\n",
              "</style>\n",
              "<table border=\"1\" class=\"dataframe\">\n",
              "  <thead>\n",
              "    <tr style=\"text-align: right;\">\n",
              "      <th></th>\n",
              "      <th>Model</th>\n",
              "      <th>MAE</th>\n",
              "      <th>MSE</th>\n",
              "      <th>RMSE</th>\n",
              "      <th>R2 Square</th>\n",
              "      <th>Cross Validation</th>\n",
              "    </tr>\n",
              "  </thead>\n",
              "  <tbody>\n",
              "    <tr>\n",
              "      <th>0</th>\n",
              "      <td>Linear Regression</td>\n",
              "      <td>9.467278</td>\n",
              "      <td>142.066946</td>\n",
              "      <td>11.919184</td>\n",
              "      <td>0.361037</td>\n",
              "      <td>0.330683</td>\n",
              "    </tr>\n",
              "    <tr>\n",
              "      <th>1</th>\n",
              "      <td>Ridge Regression</td>\n",
              "      <td>9.510633</td>\n",
              "      <td>143.297663</td>\n",
              "      <td>11.970700</td>\n",
              "      <td>0.355502</td>\n",
              "      <td>0.330684</td>\n",
              "    </tr>\n",
              "  </tbody>\n",
              "</table>\n",
              "</div>"
            ],
            "text/plain": [
              "               Model       MAE  ...  R2 Square  Cross Validation\n",
              "0  Linear Regression  9.467278  ...   0.361037          0.330683\n",
              "1   Ridge Regression  9.510633  ...   0.355502          0.330684\n",
              "\n",
              "[2 rows x 6 columns]"
            ]
          },
          "metadata": {
            "tags": []
          },
          "execution_count": 26
        }
      ]
    },
    {
      "cell_type": "markdown",
      "metadata": {
        "id": "UffjSX1i3kG2"
      },
      "source": [
        "# ✔️ LASSO Regression"
      ]
    },
    {
      "cell_type": "code",
      "metadata": {
        "id": "130bzw1q3lZ2",
        "colab": {
          "base_uri": "https://localhost:8080/"
        },
        "outputId": "c4f9575d-2eb4-4251-f9ea-256d3a1f2367"
      },
      "source": [
        "from sklearn.linear_model import Lasso  # completar\n",
        "\n",
        "model = Lasso(alpha=0.1,\n",
        "              precompute=True,\n",
        "#               warm_start=True,\n",
        "              positive=True,\n",
        "              selection='random',\n",
        "              random_state=42)\n",
        "model.fit(X_train, y_train)\n",
        "\n",
        "test_pred = model.predict(X_test)\n",
        "train_pred = model.predict(X_train)\n",
        "\n",
        "print('Test set evaluation:\\n_____________________________________')\n",
        "print_evaluate(y_test, test_pred)\n",
        "print('====================================')\n",
        "print('Train set evaluation:\\n_____________________________________')\n",
        "print_evaluate(y_train, train_pred)"
      ],
      "execution_count": null,
      "outputs": [
        {
          "output_type": "stream",
          "text": [
            "Test set evaluation:\n",
            "_____________________________________\n",
            "MAE: 9.473383154623846\n",
            "MSE: 142.24828376149833\n",
            "RMSE: 11.926788493198758\n",
            "R2 Square 0.3602218489401986\n",
            "__________________________________\n",
            "====================================\n",
            "Train set evaluation:\n",
            "_____________________________________\n",
            "MAE: 9.49561160667695\n",
            "MSE: 143.3065370684139\n",
            "RMSE: 11.971070840506036\n",
            "R2 Square 0.3186558440686337\n",
            "__________________________________\n"
          ],
          "name": "stdout"
        }
      ]
    },
    {
      "cell_type": "code",
      "metadata": {
        "id": "lOwHr4rU3sq1",
        "colab": {
          "base_uri": "https://localhost:8080/",
          "height": 173
        },
        "outputId": "732aacfb-238d-4350-b36b-0e983e46046e"
      },
      "source": [
        "results_df_2 = pd.DataFrame(data=[[\"Lasso Regression\", *evaluate(y_test, test_pred) , cross_val(Lasso())]],\n",
        "                            columns=['Model', 'MAE', 'MSE', 'RMSE', 'R2 Square', \"Cross Validation\"])\n",
        "results_df = results_df.append(results_df_2, ignore_index=True)\n",
        "results_df"
      ],
      "execution_count": null,
      "outputs": [
        {
          "output_type": "execute_result",
          "data": {
            "text/html": [
              "<div>\n",
              "<style scoped>\n",
              "    .dataframe tbody tr th:only-of-type {\n",
              "        vertical-align: middle;\n",
              "    }\n",
              "\n",
              "    .dataframe tbody tr th {\n",
              "        vertical-align: top;\n",
              "    }\n",
              "\n",
              "    .dataframe thead th {\n",
              "        text-align: right;\n",
              "    }\n",
              "</style>\n",
              "<table border=\"1\" class=\"dataframe\">\n",
              "  <thead>\n",
              "    <tr style=\"text-align: right;\">\n",
              "      <th></th>\n",
              "      <th>Model</th>\n",
              "      <th>MAE</th>\n",
              "      <th>MSE</th>\n",
              "      <th>RMSE</th>\n",
              "      <th>R2 Square</th>\n",
              "      <th>Cross Validation</th>\n",
              "    </tr>\n",
              "  </thead>\n",
              "  <tbody>\n",
              "    <tr>\n",
              "      <th>0</th>\n",
              "      <td>Linear Regression</td>\n",
              "      <td>9.467278</td>\n",
              "      <td>142.066946</td>\n",
              "      <td>11.919184</td>\n",
              "      <td>0.361037</td>\n",
              "      <td>0.330683</td>\n",
              "    </tr>\n",
              "    <tr>\n",
              "      <th>1</th>\n",
              "      <td>Ridge Regression</td>\n",
              "      <td>9.510633</td>\n",
              "      <td>143.297663</td>\n",
              "      <td>11.970700</td>\n",
              "      <td>0.355502</td>\n",
              "      <td>0.330684</td>\n",
              "    </tr>\n",
              "    <tr>\n",
              "      <th>2</th>\n",
              "      <td>Lasso Regression</td>\n",
              "      <td>9.473383</td>\n",
              "      <td>142.248284</td>\n",
              "      <td>11.926788</td>\n",
              "      <td>0.360222</td>\n",
              "      <td>0.326103</td>\n",
              "    </tr>\n",
              "    <tr>\n",
              "      <th>3</th>\n",
              "      <td>Lasso Regression</td>\n",
              "      <td>9.473383</td>\n",
              "      <td>142.248284</td>\n",
              "      <td>11.926788</td>\n",
              "      <td>0.360222</td>\n",
              "      <td>0.326103</td>\n",
              "    </tr>\n",
              "  </tbody>\n",
              "</table>\n",
              "</div>"
            ],
            "text/plain": [
              "               Model       MAE  ...  R2 Square  Cross Validation\n",
              "0  Linear Regression  9.467278  ...   0.361037          0.330683\n",
              "1   Ridge Regression  9.510633  ...   0.355502          0.330684\n",
              "2   Lasso Regression  9.473383  ...   0.360222          0.326103\n",
              "3   Lasso Regression  9.473383  ...   0.360222          0.326103\n",
              "\n",
              "[4 rows x 6 columns]"
            ]
          },
          "metadata": {
            "tags": []
          },
          "execution_count": 29
        }
      ]
    },
    {
      "cell_type": "markdown",
      "metadata": {
        "id": "Kjz6eHDQ3uzF"
      },
      "source": [
        "# ✔️ Elastic Net"
      ]
    },
    {
      "cell_type": "code",
      "metadata": {
        "id": "9UpEQJT73vrR",
        "colab": {
          "base_uri": "https://localhost:8080/"
        },
        "outputId": "517052cd-2c88-4c67-ed35-9ac0f89085c6"
      },
      "source": [
        "from sklearn.linear_model import ElasticNet# completar\n",
        "\n",
        "model = ElasticNet(alpha=0.1, l1_ratio=0.9, selection='random', random_state=42)\n",
        "model.fit(X_train, y_train)\n",
        "\n",
        "test_pred = model.predict(X_test)\n",
        "train_pred = model.predict(X_train)\n",
        "\n",
        "print('Test set evaluation:\\n_____________________________________')\n",
        "print_evaluate(y_test, test_pred)\n",
        "print('====================================')\n",
        "print('Train set evaluation:\\n_____________________________________')\n",
        "print_evaluate(y_train, train_pred)"
      ],
      "execution_count": null,
      "outputs": [
        {
          "output_type": "stream",
          "text": [
            "Test set evaluation:\n",
            "_____________________________________\n",
            "MAE: 9.478061755539247\n",
            "MSE: 142.3873547307306\n",
            "RMSE: 11.932617262391792\n",
            "R2 Square 0.3595963611296693\n",
            "__________________________________\n",
            "====================================\n",
            "Train set evaluation:\n",
            "_____________________________________\n",
            "MAE: 9.498972076216758\n",
            "MSE: 143.3254954859092\n",
            "RMSE: 11.971862657327355\n",
            "R2 Square 0.31856570716887767\n",
            "__________________________________\n"
          ],
          "name": "stdout"
        }
      ]
    },
    {
      "cell_type": "code",
      "metadata": {
        "id": "mfjp1klh33ml",
        "colab": {
          "base_uri": "https://localhost:8080/",
          "height": 204
        },
        "outputId": "99baab67-a060-4785-ecff-225ed4591cf2"
      },
      "source": [
        "results_df_2 = pd.DataFrame(data=[[\"Elastic Net Regression\", *evaluate(y_test, test_pred) , cross_val(ElasticNet())]],\n",
        "                            columns=['Model', 'MAE', 'MSE', 'RMSE', 'R2 Square', \"Cross Validation\"])\n",
        "results_df = results_df.append(results_df_2, ignore_index=True)\n",
        "results_df"
      ],
      "execution_count": null,
      "outputs": [
        {
          "output_type": "execute_result",
          "data": {
            "text/html": [
              "<div>\n",
              "<style scoped>\n",
              "    .dataframe tbody tr th:only-of-type {\n",
              "        vertical-align: middle;\n",
              "    }\n",
              "\n",
              "    .dataframe tbody tr th {\n",
              "        vertical-align: top;\n",
              "    }\n",
              "\n",
              "    .dataframe thead th {\n",
              "        text-align: right;\n",
              "    }\n",
              "</style>\n",
              "<table border=\"1\" class=\"dataframe\">\n",
              "  <thead>\n",
              "    <tr style=\"text-align: right;\">\n",
              "      <th></th>\n",
              "      <th>Model</th>\n",
              "      <th>MAE</th>\n",
              "      <th>MSE</th>\n",
              "      <th>RMSE</th>\n",
              "      <th>R2 Square</th>\n",
              "      <th>Cross Validation</th>\n",
              "    </tr>\n",
              "  </thead>\n",
              "  <tbody>\n",
              "    <tr>\n",
              "      <th>0</th>\n",
              "      <td>Linear Regression</td>\n",
              "      <td>9.467278</td>\n",
              "      <td>142.066946</td>\n",
              "      <td>11.919184</td>\n",
              "      <td>0.361037</td>\n",
              "      <td>0.330683</td>\n",
              "    </tr>\n",
              "    <tr>\n",
              "      <th>1</th>\n",
              "      <td>Ridge Regression</td>\n",
              "      <td>9.510633</td>\n",
              "      <td>143.297663</td>\n",
              "      <td>11.970700</td>\n",
              "      <td>0.355502</td>\n",
              "      <td>0.330684</td>\n",
              "    </tr>\n",
              "    <tr>\n",
              "      <th>2</th>\n",
              "      <td>Lasso Regression</td>\n",
              "      <td>9.473383</td>\n",
              "      <td>142.248284</td>\n",
              "      <td>11.926788</td>\n",
              "      <td>0.360222</td>\n",
              "      <td>0.326103</td>\n",
              "    </tr>\n",
              "    <tr>\n",
              "      <th>3</th>\n",
              "      <td>Lasso Regression</td>\n",
              "      <td>9.473383</td>\n",
              "      <td>142.248284</td>\n",
              "      <td>11.926788</td>\n",
              "      <td>0.360222</td>\n",
              "      <td>0.326103</td>\n",
              "    </tr>\n",
              "    <tr>\n",
              "      <th>4</th>\n",
              "      <td>Elastic Net Regression</td>\n",
              "      <td>9.478062</td>\n",
              "      <td>142.387355</td>\n",
              "      <td>11.932617</td>\n",
              "      <td>0.359596</td>\n",
              "      <td>0.283354</td>\n",
              "    </tr>\n",
              "  </tbody>\n",
              "</table>\n",
              "</div>"
            ],
            "text/plain": [
              "                    Model       MAE  ...  R2 Square  Cross Validation\n",
              "0       Linear Regression  9.467278  ...   0.361037          0.330683\n",
              "1        Ridge Regression  9.510633  ...   0.355502          0.330684\n",
              "2        Lasso Regression  9.473383  ...   0.360222          0.326103\n",
              "3        Lasso Regression  9.473383  ...   0.360222          0.326103\n",
              "4  Elastic Net Regression  9.478062  ...   0.359596          0.283354\n",
              "\n",
              "[5 rows x 6 columns]"
            ]
          },
          "metadata": {
            "tags": []
          },
          "execution_count": 31
        }
      ]
    },
    {
      "cell_type": "markdown",
      "metadata": {
        "id": "PxkGAITI35nm"
      },
      "source": [
        "# ✔️ Polynomial Regression"
      ]
    },
    {
      "cell_type": "code",
      "metadata": {
        "id": "L_AvitMn36nA",
        "colab": {
          "base_uri": "https://localhost:8080/"
        },
        "outputId": "516764bd-0859-4719-c004-94c9fa97fd73"
      },
      "source": [
        "from sklearn.preprocessing import PolynomialFeatures # completar\n",
        "\n",
        "poly_reg = PolynomialFeatures(degree=2)\n",
        "\n",
        "X_train_2_d = poly_reg.fit_transform(X_train)\n",
        "X_test_2_d = poly_reg.transform(X_test)\n",
        "\n",
        "lin_reg = LinearRegression(normalize=True)\n",
        "lin_reg.fit(X_train_2_d,y_train)\n",
        "\n",
        "test_pred = lin_reg.predict(X_test_2_d)\n",
        "train_pred = lin_reg.predict(X_train_2_d)\n",
        "\n",
        "print('Test set evaluation:\\n_____________________________________')\n",
        "print_evaluate(y_test, test_pred)\n",
        "print('====================================')\n",
        "print('Train set evaluation:\\n_____________________________________')\n",
        "print_evaluate(y_train, train_pred)"
      ],
      "execution_count": null,
      "outputs": [
        {
          "output_type": "stream",
          "text": [
            "Test set evaluation:\n",
            "_____________________________________\n",
            "MAE: 9.518282943444968\n",
            "MSE: 143.51433566627048\n",
            "RMSE: 11.979746894916874\n",
            "R2 Square 0.3545276336894968\n",
            "__________________________________\n",
            "====================================\n",
            "Train set evaluation:\n",
            "_____________________________________\n",
            "MAE: 9.473904856678226\n",
            "MSE: 142.4976899698906\n",
            "RMSE: 11.937239629407236\n",
            "R2 Square 0.32250146936176183\n",
            "__________________________________\n"
          ],
          "name": "stdout"
        }
      ]
    },
    {
      "cell_type": "code",
      "metadata": {
        "id": "BEUG7_gX4C_J",
        "colab": {
          "base_uri": "https://localhost:8080/",
          "height": 235
        },
        "outputId": "b2e4a4c5-3982-4fc3-94b2-890127f37a38"
      },
      "source": [
        "results_df_2 = pd.DataFrame(data=[[\"Polynomail Regression\", *evaluate(y_test, test_pred), 0]],\n",
        "                            columns=['Model', 'MAE', 'MSE', 'RMSE', 'R2 Square', 'Cross Validation'])\n",
        "results_df = results_df.append(results_df_2, ignore_index=True)\n",
        "results_df"
      ],
      "execution_count": null,
      "outputs": [
        {
          "output_type": "execute_result",
          "data": {
            "text/html": [
              "<div>\n",
              "<style scoped>\n",
              "    .dataframe tbody tr th:only-of-type {\n",
              "        vertical-align: middle;\n",
              "    }\n",
              "\n",
              "    .dataframe tbody tr th {\n",
              "        vertical-align: top;\n",
              "    }\n",
              "\n",
              "    .dataframe thead th {\n",
              "        text-align: right;\n",
              "    }\n",
              "</style>\n",
              "<table border=\"1\" class=\"dataframe\">\n",
              "  <thead>\n",
              "    <tr style=\"text-align: right;\">\n",
              "      <th></th>\n",
              "      <th>Model</th>\n",
              "      <th>MAE</th>\n",
              "      <th>MSE</th>\n",
              "      <th>RMSE</th>\n",
              "      <th>R2 Square</th>\n",
              "      <th>Cross Validation</th>\n",
              "    </tr>\n",
              "  </thead>\n",
              "  <tbody>\n",
              "    <tr>\n",
              "      <th>0</th>\n",
              "      <td>Linear Regression</td>\n",
              "      <td>9.467278</td>\n",
              "      <td>142.066946</td>\n",
              "      <td>11.919184</td>\n",
              "      <td>0.361037</td>\n",
              "      <td>0.330683</td>\n",
              "    </tr>\n",
              "    <tr>\n",
              "      <th>1</th>\n",
              "      <td>Ridge Regression</td>\n",
              "      <td>9.510633</td>\n",
              "      <td>143.297663</td>\n",
              "      <td>11.970700</td>\n",
              "      <td>0.355502</td>\n",
              "      <td>0.330684</td>\n",
              "    </tr>\n",
              "    <tr>\n",
              "      <th>2</th>\n",
              "      <td>Lasso Regression</td>\n",
              "      <td>9.473383</td>\n",
              "      <td>142.248284</td>\n",
              "      <td>11.926788</td>\n",
              "      <td>0.360222</td>\n",
              "      <td>0.326103</td>\n",
              "    </tr>\n",
              "    <tr>\n",
              "      <th>3</th>\n",
              "      <td>Lasso Regression</td>\n",
              "      <td>9.473383</td>\n",
              "      <td>142.248284</td>\n",
              "      <td>11.926788</td>\n",
              "      <td>0.360222</td>\n",
              "      <td>0.326103</td>\n",
              "    </tr>\n",
              "    <tr>\n",
              "      <th>4</th>\n",
              "      <td>Elastic Net Regression</td>\n",
              "      <td>9.478062</td>\n",
              "      <td>142.387355</td>\n",
              "      <td>11.932617</td>\n",
              "      <td>0.359596</td>\n",
              "      <td>0.283354</td>\n",
              "    </tr>\n",
              "    <tr>\n",
              "      <th>5</th>\n",
              "      <td>Polynomail Regression</td>\n",
              "      <td>9.518283</td>\n",
              "      <td>143.514336</td>\n",
              "      <td>11.979747</td>\n",
              "      <td>0.354528</td>\n",
              "      <td>0.000000</td>\n",
              "    </tr>\n",
              "  </tbody>\n",
              "</table>\n",
              "</div>"
            ],
            "text/plain": [
              "                    Model       MAE  ...  R2 Square  Cross Validation\n",
              "0       Linear Regression  9.467278  ...   0.361037          0.330683\n",
              "1        Ridge Regression  9.510633  ...   0.355502          0.330684\n",
              "2        Lasso Regression  9.473383  ...   0.360222          0.326103\n",
              "3        Lasso Regression  9.473383  ...   0.360222          0.326103\n",
              "4  Elastic Net Regression  9.478062  ...   0.359596          0.283354\n",
              "5   Polynomail Regression  9.518283  ...   0.354528          0.000000\n",
              "\n",
              "[6 rows x 6 columns]"
            ]
          },
          "metadata": {
            "tags": []
          },
          "execution_count": 34
        }
      ]
    },
    {
      "cell_type": "markdown",
      "metadata": {
        "id": "K3uULDbN4FrG"
      },
      "source": [
        "# ✔️ Artficial Neural Network"
      ]
    },
    {
      "cell_type": "code",
      "metadata": {
        "id": "Rrfd3g7i4IVe",
        "colab": {
          "base_uri": "https://localhost:8080/"
        },
        "outputId": "518f57d7-8ed3-4fbd-e4c3-231a9d61fcb8"
      },
      "source": [
        "from tensorflow.keras.models import Sequential  # completar\n",
        "from tensorflow.keras.layers import Input, Dense, Activation, Dropout\n",
        "from tensorflow.keras.optimizers import Adam\n",
        "\n",
        "X_train = np.array(X_train)\n",
        "X_test = np.array(X_test)\n",
        "y_train = np.array(y_train)\n",
        "y_test = np.array(y_test)\n",
        "\n",
        "model = Sequential()\n",
        "\n",
        "model.add(Dense(X_train.shape[1], activation='relu'))\n",
        "model.add(Dense(32, activation='relu'))\n",
        "# model.add(Dropout(0.2))\n",
        "\n",
        "model.add(Dense(64, activation='relu'))\n",
        "# model.add(Dropout(0.2))\n",
        "\n",
        "model.add(Dense(128, activation='relu'))\n",
        "# model.add(Dropout(0.2))\n",
        "\n",
        "model.add(Dense(512, activation='relu'))\n",
        "model.add(Dropout(0.1))\n",
        "model.add(Dense(1))\n",
        "\n",
        "model.compile(optimizer=Adam(0.00001), loss='mse')\n",
        "\n",
        "r = model.fit(X_train, y_train,\n",
        "              validation_data=(X_test,y_test),\n",
        "              batch_size=1,\n",
        "              epochs=100)"
      ],
      "execution_count": null,
      "outputs": [
        {
          "output_type": "stream",
          "text": [
            "Epoch 1/100\n",
            "1400/1400 [==============================] - 4s 2ms/step - loss: 198.4574 - val_loss: 214.8666\n",
            "Epoch 2/100\n",
            "1400/1400 [==============================] - 3s 2ms/step - loss: 199.2974 - val_loss: 205.4601\n",
            "Epoch 3/100\n",
            "1400/1400 [==============================] - 3s 2ms/step - loss: 187.3522 - val_loss: 194.3986\n",
            "Epoch 4/100\n",
            "1400/1400 [==============================] - 3s 2ms/step - loss: 191.6305 - val_loss: 186.2605\n",
            "Epoch 5/100\n",
            "1400/1400 [==============================] - 3s 2ms/step - loss: 177.1627 - val_loss: 180.5556\n",
            "Epoch 6/100\n",
            "1400/1400 [==============================] - 3s 2ms/step - loss: 176.3276 - val_loss: 176.7580\n",
            "Epoch 7/100\n",
            "1400/1400 [==============================] - 3s 2ms/step - loss: 170.0347 - val_loss: 173.9941\n",
            "Epoch 8/100\n",
            "1400/1400 [==============================] - 3s 2ms/step - loss: 164.5604 - val_loss: 171.5511\n",
            "Epoch 9/100\n",
            "1400/1400 [==============================] - 3s 2ms/step - loss: 178.4534 - val_loss: 169.4138\n",
            "Epoch 10/100\n",
            "1400/1400 [==============================] - 3s 2ms/step - loss: 169.7556 - val_loss: 167.2003\n",
            "Epoch 11/100\n",
            "1400/1400 [==============================] - 3s 2ms/step - loss: 160.2646 - val_loss: 165.1785\n",
            "Epoch 12/100\n",
            "1400/1400 [==============================] - 3s 2ms/step - loss: 164.3317 - val_loss: 163.5379\n",
            "Epoch 13/100\n",
            "1400/1400 [==============================] - 3s 2ms/step - loss: 164.1646 - val_loss: 162.0736\n",
            "Epoch 14/100\n",
            "1400/1400 [==============================] - 3s 2ms/step - loss: 174.3745 - val_loss: 160.8395\n",
            "Epoch 15/100\n",
            "1400/1400 [==============================] - 3s 2ms/step - loss: 166.5174 - val_loss: 159.7279\n",
            "Epoch 16/100\n",
            "1400/1400 [==============================] - 3s 2ms/step - loss: 172.7035 - val_loss: 158.7623\n",
            "Epoch 17/100\n",
            "1400/1400 [==============================] - 3s 2ms/step - loss: 157.1382 - val_loss: 158.0102\n",
            "Epoch 18/100\n",
            "1400/1400 [==============================] - 3s 2ms/step - loss: 151.1743 - val_loss: 157.2151\n",
            "Epoch 19/100\n",
            "1400/1400 [==============================] - 3s 2ms/step - loss: 153.9454 - val_loss: 156.6992\n",
            "Epoch 20/100\n",
            "1400/1400 [==============================] - 3s 2ms/step - loss: 163.7210 - val_loss: 156.4806\n",
            "Epoch 21/100\n",
            "1400/1400 [==============================] - 3s 2ms/step - loss: 159.1715 - val_loss: 156.1622\n",
            "Epoch 22/100\n",
            "1400/1400 [==============================] - 3s 2ms/step - loss: 155.6041 - val_loss: 155.9700\n",
            "Epoch 23/100\n",
            "1400/1400 [==============================] - 3s 2ms/step - loss: 152.1684 - val_loss: 155.6712\n",
            "Epoch 24/100\n",
            "1400/1400 [==============================] - 3s 2ms/step - loss: 160.6848 - val_loss: 155.8032\n",
            "Epoch 25/100\n",
            "1400/1400 [==============================] - 3s 2ms/step - loss: 171.4473 - val_loss: 155.4556\n",
            "Epoch 26/100\n",
            "1400/1400 [==============================] - 3s 2ms/step - loss: 159.7499 - val_loss: 155.4610\n",
            "Epoch 27/100\n",
            "1400/1400 [==============================] - 3s 2ms/step - loss: 158.9910 - val_loss: 155.1721\n",
            "Epoch 28/100\n",
            "1400/1400 [==============================] - 3s 2ms/step - loss: 159.8557 - val_loss: 155.1180\n",
            "Epoch 29/100\n",
            "1400/1400 [==============================] - 3s 2ms/step - loss: 161.0970 - val_loss: 155.0884\n",
            "Epoch 30/100\n",
            "1400/1400 [==============================] - 3s 2ms/step - loss: 163.8867 - val_loss: 155.0846\n",
            "Epoch 31/100\n",
            "1400/1400 [==============================] - 3s 2ms/step - loss: 162.3328 - val_loss: 154.8976\n",
            "Epoch 32/100\n",
            "1400/1400 [==============================] - 3s 2ms/step - loss: 171.3099 - val_loss: 154.7069\n",
            "Epoch 33/100\n",
            "1400/1400 [==============================] - 3s 2ms/step - loss: 168.3600 - val_loss: 154.8269\n",
            "Epoch 34/100\n",
            "1400/1400 [==============================] - 3s 2ms/step - loss: 164.3413 - val_loss: 154.8637\n",
            "Epoch 35/100\n",
            "1400/1400 [==============================] - 3s 2ms/step - loss: 177.1642 - val_loss: 154.7423\n",
            "Epoch 36/100\n",
            "1400/1400 [==============================] - 3s 2ms/step - loss: 176.7511 - val_loss: 154.6451\n",
            "Epoch 37/100\n",
            "1400/1400 [==============================] - 3s 2ms/step - loss: 161.4816 - val_loss: 154.6202\n",
            "Epoch 38/100\n",
            "1400/1400 [==============================] - 3s 2ms/step - loss: 168.0856 - val_loss: 154.4849\n",
            "Epoch 39/100\n",
            "1400/1400 [==============================] - 3s 2ms/step - loss: 167.2671 - val_loss: 154.5477\n",
            "Epoch 40/100\n",
            "1400/1400 [==============================] - 3s 2ms/step - loss: 149.3628 - val_loss: 154.5627\n",
            "Epoch 41/100\n",
            "1400/1400 [==============================] - 3s 2ms/step - loss: 156.4007 - val_loss: 154.4272\n",
            "Epoch 42/100\n",
            "1400/1400 [==============================] - 3s 2ms/step - loss: 154.9105 - val_loss: 154.4471\n",
            "Epoch 43/100\n",
            "1400/1400 [==============================] - 3s 2ms/step - loss: 156.3799 - val_loss: 154.5021\n",
            "Epoch 44/100\n",
            "1400/1400 [==============================] - 3s 2ms/step - loss: 160.4815 - val_loss: 154.4241\n",
            "Epoch 45/100\n",
            "1400/1400 [==============================] - 3s 2ms/step - loss: 162.6323 - val_loss: 154.2359\n",
            "Epoch 46/100\n",
            "1400/1400 [==============================] - 3s 2ms/step - loss: 170.3807 - val_loss: 154.2391\n",
            "Epoch 47/100\n",
            "1400/1400 [==============================] - 3s 2ms/step - loss: 155.1154 - val_loss: 154.4054\n",
            "Epoch 48/100\n",
            "1400/1400 [==============================] - 3s 2ms/step - loss: 154.0009 - val_loss: 154.4034\n",
            "Epoch 49/100\n",
            "1400/1400 [==============================] - 3s 2ms/step - loss: 156.2812 - val_loss: 154.2786\n",
            "Epoch 50/100\n",
            "1400/1400 [==============================] - 3s 2ms/step - loss: 155.2688 - val_loss: 154.1965\n",
            "Epoch 51/100\n",
            "1400/1400 [==============================] - 3s 2ms/step - loss: 156.2391 - val_loss: 154.1559\n",
            "Epoch 52/100\n",
            "1400/1400 [==============================] - 3s 2ms/step - loss: 159.2980 - val_loss: 154.1514\n",
            "Epoch 53/100\n",
            "1400/1400 [==============================] - 3s 2ms/step - loss: 171.8115 - val_loss: 154.0905\n",
            "Epoch 54/100\n",
            "1400/1400 [==============================] - 3s 2ms/step - loss: 159.6429 - val_loss: 154.0557\n",
            "Epoch 55/100\n",
            "1400/1400 [==============================] - 3s 2ms/step - loss: 150.9707 - val_loss: 154.0184\n",
            "Epoch 56/100\n",
            "1400/1400 [==============================] - 3s 2ms/step - loss: 146.7639 - val_loss: 154.1206\n",
            "Epoch 57/100\n",
            "1400/1400 [==============================] - 3s 2ms/step - loss: 156.6591 - val_loss: 154.1046\n",
            "Epoch 58/100\n",
            "1400/1400 [==============================] - 3s 2ms/step - loss: 154.9959 - val_loss: 154.2691\n",
            "Epoch 59/100\n",
            "1400/1400 [==============================] - 3s 2ms/step - loss: 147.9811 - val_loss: 154.3234\n",
            "Epoch 60/100\n",
            "1400/1400 [==============================] - 3s 2ms/step - loss: 154.5733 - val_loss: 154.3455\n",
            "Epoch 61/100\n",
            "1400/1400 [==============================] - 3s 2ms/step - loss: 144.4328 - val_loss: 154.2625\n",
            "Epoch 62/100\n",
            "1400/1400 [==============================] - 3s 2ms/step - loss: 163.6794 - val_loss: 154.0948\n",
            "Epoch 63/100\n",
            "1400/1400 [==============================] - 3s 2ms/step - loss: 159.5071 - val_loss: 154.1800\n",
            "Epoch 64/100\n",
            "1400/1400 [==============================] - 3s 2ms/step - loss: 164.0298 - val_loss: 154.2052\n",
            "Epoch 65/100\n",
            "1400/1400 [==============================] - 3s 2ms/step - loss: 155.9135 - val_loss: 154.0943\n",
            "Epoch 66/100\n",
            "1400/1400 [==============================] - 3s 2ms/step - loss: 159.4742 - val_loss: 154.1802\n",
            "Epoch 67/100\n",
            "1400/1400 [==============================] - 3s 2ms/step - loss: 157.1980 - val_loss: 154.1532\n",
            "Epoch 68/100\n",
            "1400/1400 [==============================] - 3s 2ms/step - loss: 161.2683 - val_loss: 154.2696\n",
            "Epoch 69/100\n",
            "1400/1400 [==============================] - 3s 2ms/step - loss: 160.7047 - val_loss: 154.2408\n",
            "Epoch 70/100\n",
            "1400/1400 [==============================] - 3s 2ms/step - loss: 160.9956 - val_loss: 154.2448\n",
            "Epoch 71/100\n",
            "1400/1400 [==============================] - 3s 2ms/step - loss: 158.7809 - val_loss: 154.2431\n",
            "Epoch 72/100\n",
            "1400/1400 [==============================] - 3s 2ms/step - loss: 168.6824 - val_loss: 154.3190\n",
            "Epoch 73/100\n",
            "1400/1400 [==============================] - 3s 2ms/step - loss: 158.1058 - val_loss: 154.1581\n",
            "Epoch 74/100\n",
            "1400/1400 [==============================] - 3s 2ms/step - loss: 159.8786 - val_loss: 154.2168\n",
            "Epoch 75/100\n",
            "1400/1400 [==============================] - 3s 2ms/step - loss: 152.7982 - val_loss: 154.2673\n",
            "Epoch 76/100\n",
            "1400/1400 [==============================] - 3s 2ms/step - loss: 161.7303 - val_loss: 154.3061\n",
            "Epoch 77/100\n",
            "1400/1400 [==============================] - 3s 2ms/step - loss: 156.5326 - val_loss: 154.3352\n",
            "Epoch 78/100\n",
            "1400/1400 [==============================] - 3s 2ms/step - loss: 158.0249 - val_loss: 154.3217\n",
            "Epoch 79/100\n",
            "1400/1400 [==============================] - 3s 2ms/step - loss: 160.9437 - val_loss: 154.2857\n",
            "Epoch 80/100\n",
            "1400/1400 [==============================] - 3s 2ms/step - loss: 154.7227 - val_loss: 154.2478\n",
            "Epoch 81/100\n",
            "1400/1400 [==============================] - 3s 2ms/step - loss: 161.5585 - val_loss: 154.1860\n",
            "Epoch 82/100\n",
            "1400/1400 [==============================] - 3s 2ms/step - loss: 151.6262 - val_loss: 154.2842\n",
            "Epoch 83/100\n",
            "1400/1400 [==============================] - 3s 2ms/step - loss: 155.9161 - val_loss: 154.3212\n",
            "Epoch 84/100\n",
            "1400/1400 [==============================] - 3s 2ms/step - loss: 156.3753 - val_loss: 154.3061\n",
            "Epoch 85/100\n",
            "1400/1400 [==============================] - 3s 2ms/step - loss: 156.2582 - val_loss: 154.2143\n",
            "Epoch 86/100\n",
            "1400/1400 [==============================] - 3s 2ms/step - loss: 159.2679 - val_loss: 154.0811\n",
            "Epoch 87/100\n",
            "1400/1400 [==============================] - 3s 2ms/step - loss: 165.2802 - val_loss: 154.1654\n",
            "Epoch 88/100\n",
            "1400/1400 [==============================] - 3s 2ms/step - loss: 158.8354 - val_loss: 154.0235\n",
            "Epoch 89/100\n",
            "1400/1400 [==============================] - 3s 2ms/step - loss: 167.8797 - val_loss: 154.0578\n",
            "Epoch 90/100\n",
            "1400/1400 [==============================] - 3s 2ms/step - loss: 162.7484 - val_loss: 154.1984\n",
            "Epoch 91/100\n",
            "1400/1400 [==============================] - 3s 2ms/step - loss: 158.1038 - val_loss: 154.2926\n",
            "Epoch 92/100\n",
            "1400/1400 [==============================] - 3s 2ms/step - loss: 162.7252 - val_loss: 154.3987\n",
            "Epoch 93/100\n",
            "1400/1400 [==============================] - 3s 2ms/step - loss: 162.8675 - val_loss: 154.2543\n",
            "Epoch 94/100\n",
            "1400/1400 [==============================] - 3s 2ms/step - loss: 155.2903 - val_loss: 154.2203\n",
            "Epoch 95/100\n",
            "1400/1400 [==============================] - 3s 2ms/step - loss: 158.3105 - val_loss: 154.2256\n",
            "Epoch 96/100\n",
            "1400/1400 [==============================] - 3s 2ms/step - loss: 167.8327 - val_loss: 154.1498\n",
            "Epoch 97/100\n",
            "1400/1400 [==============================] - 3s 2ms/step - loss: 153.7680 - val_loss: 154.2627\n",
            "Epoch 98/100\n",
            "1400/1400 [==============================] - 3s 2ms/step - loss: 163.0042 - val_loss: 154.2776\n",
            "Epoch 99/100\n",
            "1400/1400 [==============================] - 3s 2ms/step - loss: 164.6929 - val_loss: 154.2196\n",
            "Epoch 100/100\n",
            "1400/1400 [==============================] - 3s 2ms/step - loss: 163.4493 - val_loss: 154.2557\n"
          ],
          "name": "stdout"
        }
      ]
    },
    {
      "cell_type": "code",
      "metadata": {
        "id": "GP13l4Wh4UYe",
        "colab": {
          "base_uri": "https://localhost:8080/",
          "height": 388
        },
        "outputId": "9bed1696-8c17-4616-8cbe-e6ac21ea3064"
      },
      "source": [
        "plt.figure(figsize=(10, 6))\n",
        "\n",
        "plt.plot(r.history['loss'], label='loss')\n",
        "plt.plot(r.history['val_loss'], label='val_loss')\n",
        "plt.legend()"
      ],
      "execution_count": null,
      "outputs": [
        {
          "output_type": "execute_result",
          "data": {
            "text/plain": [
              "<matplotlib.legend.Legend at 0x7f0de446e6d0>"
            ]
          },
          "metadata": {
            "tags": []
          },
          "execution_count": 37
        },
        {
          "output_type": "display_data",
          "data": {
            "image/png": "[encoded data removed]",
            "text/plain": [
              "<Figure size 720x432 with 1 Axes>"
            ]
          },
          "metadata": {
            "tags": [],
            "needs_background": "light"
          }
        }
      ]
    },
    {
      "cell_type": "code",
      "metadata": {
        "id": "IvQ23OZl4VE3",
        "colab": {
          "base_uri": "https://localhost:8080/"
        },
        "outputId": "c3393512-eb52-4249-8a0f-5e80d6e940d8"
      },
      "source": [
        "test_pred = model.predict(X_test)\n",
        "train_pred = model.predict(X_train)\n",
        "\n",
        "print('Test set evaluation:\\n_____________________________________')\n",
        "print_evaluate(y_test, test_pred)\n",
        "\n",
        "print('Train set evaluation:\\n_____________________________________')\n",
        "print_evaluate(y_train, train_pred)"
      ],
      "execution_count": null,
      "outputs": [
        {
          "output_type": "stream",
          "text": [
            "Test set evaluation:\n",
            "_____________________________________\n",
            "MAE: 9.93225193699665\n",
            "MSE: 154.25574803654845\n",
            "RMSE: 12.419973753456505\n",
            "R2 Square 0.30621688600026975\n",
            "__________________________________\n",
            "Train set evaluation:\n",
            "_____________________________________\n",
            "MAE: 9.976070558576225\n",
            "MSE: 158.7439634618054\n",
            "RMSE: 12.599363613365773\n",
            "R2 Square 0.24525933005799516\n",
            "__________________________________\n"
          ],
          "name": "stdout"
        }
      ]
    },
    {
      "cell_type": "code",
      "metadata": {
        "id": "fsvWzeQj4Ykm",
        "colab": {
          "base_uri": "https://localhost:8080/",
          "height": 266
        },
        "outputId": "845fc77c-29a3-492f-a5c0-62f0b5fcc688"
      },
      "source": [
        "results_df_2 = pd.DataFrame(data=[[\"Artficial Neural Network\", *evaluate(y_test, test_pred), 0]],\n",
        "                            columns=['Model', 'MAE', 'MSE', 'RMSE', 'R2 Square', 'Cross Validation'])\n",
        "results_df = results_df.append(results_df_2, ignore_index=True)\n",
        "results_df"
      ],
      "execution_count": null,
      "outputs": [
        {
          "output_type": "execute_result",
          "data": {
            "text/html": [
              "<div>\n",
              "<style scoped>\n",
              "    .dataframe tbody tr th:only-of-type {\n",
              "        vertical-align: middle;\n",
              "    }\n",
              "\n",
              "    .dataframe tbody tr th {\n",
              "        vertical-align: top;\n",
              "    }\n",
              "\n",
              "    .dataframe thead th {\n",
              "        text-align: right;\n",
              "    }\n",
              "</style>\n",
              "<table border=\"1\" class=\"dataframe\">\n",
              "  <thead>\n",
              "    <tr style=\"text-align: right;\">\n",
              "      <th></th>\n",
              "      <th>Model</th>\n",
              "      <th>MAE</th>\n",
              "      <th>MSE</th>\n",
              "      <th>RMSE</th>\n",
              "      <th>R2 Square</th>\n",
              "      <th>Cross Validation</th>\n",
              "    </tr>\n",
              "  </thead>\n",
              "  <tbody>\n",
              "    <tr>\n",
              "      <th>0</th>\n",
              "      <td>Linear Regression</td>\n",
              "      <td>9.467278</td>\n",
              "      <td>142.066946</td>\n",
              "      <td>11.919184</td>\n",
              "      <td>0.361037</td>\n",
              "      <td>0.330683</td>\n",
              "    </tr>\n",
              "    <tr>\n",
              "      <th>1</th>\n",
              "      <td>Ridge Regression</td>\n",
              "      <td>9.510633</td>\n",
              "      <td>143.297663</td>\n",
              "      <td>11.970700</td>\n",
              "      <td>0.355502</td>\n",
              "      <td>0.330684</td>\n",
              "    </tr>\n",
              "    <tr>\n",
              "      <th>2</th>\n",
              "      <td>Lasso Regression</td>\n",
              "      <td>9.473383</td>\n",
              "      <td>142.248284</td>\n",
              "      <td>11.926788</td>\n",
              "      <td>0.360222</td>\n",
              "      <td>0.326103</td>\n",
              "    </tr>\n",
              "    <tr>\n",
              "      <th>3</th>\n",
              "      <td>Lasso Regression</td>\n",
              "      <td>9.473383</td>\n",
              "      <td>142.248284</td>\n",
              "      <td>11.926788</td>\n",
              "      <td>0.360222</td>\n",
              "      <td>0.326103</td>\n",
              "    </tr>\n",
              "    <tr>\n",
              "      <th>4</th>\n",
              "      <td>Elastic Net Regression</td>\n",
              "      <td>9.478062</td>\n",
              "      <td>142.387355</td>\n",
              "      <td>11.932617</td>\n",
              "      <td>0.359596</td>\n",
              "      <td>0.283354</td>\n",
              "    </tr>\n",
              "    <tr>\n",
              "      <th>5</th>\n",
              "      <td>Polynomail Regression</td>\n",
              "      <td>9.518283</td>\n",
              "      <td>143.514336</td>\n",
              "      <td>11.979747</td>\n",
              "      <td>0.354528</td>\n",
              "      <td>0.000000</td>\n",
              "    </tr>\n",
              "    <tr>\n",
              "      <th>6</th>\n",
              "      <td>Artficial Neural Network</td>\n",
              "      <td>9.932252</td>\n",
              "      <td>154.255748</td>\n",
              "      <td>12.419974</td>\n",
              "      <td>0.306217</td>\n",
              "      <td>0.000000</td>\n",
              "    </tr>\n",
              "  </tbody>\n",
              "</table>\n",
              "</div>"
            ],
            "text/plain": [
              "                      Model       MAE  ...  R2 Square  Cross Validation\n",
              "0         Linear Regression  9.467278  ...   0.361037          0.330683\n",
              "1          Ridge Regression  9.510633  ...   0.355502          0.330684\n",
              "2          Lasso Regression  9.473383  ...   0.360222          0.326103\n",
              "3          Lasso Regression  9.473383  ...   0.360222          0.326103\n",
              "4    Elastic Net Regression  9.478062  ...   0.359596          0.283354\n",
              "5     Polynomail Regression  9.518283  ...   0.354528          0.000000\n",
              "6  Artficial Neural Network  9.932252  ...   0.306217          0.000000\n",
              "\n",
              "[7 rows x 6 columns]"
            ]
          },
          "metadata": {
            "tags": []
          },
          "execution_count": 39
        }
      ]
    },
    {
      "cell_type": "markdown",
      "metadata": {
        "id": "ifFb8UU_4aqG"
      },
      "source": [
        "# PUEDES PROBAR CON OTROS METODOS DE REGRESION!"
      ]
    }
  ]
}